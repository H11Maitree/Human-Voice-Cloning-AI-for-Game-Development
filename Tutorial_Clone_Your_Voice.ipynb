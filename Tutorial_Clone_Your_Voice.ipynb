{
  "cells": [
    {
      "cell_type": "markdown",
      "source": [
        "# Welcome to the Tutorial: **Clone Your Voice**\n",
        "This meterial is a Tutorial part of\n",
        "\n",
        "**Assignment 1:** Human Voice Cloning AI for Game Development: Technology, Usage, Ethic and Tutorial\n",
        "\n",
        "**Course:** CS4386 AI Game, Programming, 2023-2024 Semester B, City University of Hong Kong\n",
        "\n",
        "**Course Instructor:** Prof. LEUNG Wing Ho Howard (梁永豪)\n",
        "\n",
        "*By*\n",
        "\n",
        "**Student Name:** Maitree HIRUNTEEYAKUL  \n",
        "\n",
        "**Student ID:** 56708629 (mhiruntee2)\n",
        "\n",
        "**Email:** Matt.H@my.cityu.edu.hk\n",
        "\n",
        "\n",
        "\n",
        "---\n",
        "\n",
        "### **How to start?**\n",
        "Start By Open This notebook in Google Colab\n",
        "\n",
        "[![Open In Colab](https://colab.research.google.com/assets/colab-badge.svg)](https://colab.research.google.com/github/H11Maitree/Human-Voice-Cloning-AI-for-Game-Development/blob/main/Tutorial_Clone_Your_Voice.ipynb)\n",
        "\n",
        "Link: (https://colab.research.google.com/github/H11Maitree/Human-Voice-Cloning-AI-for-Game-Development/blob/main/Tutorial_Clone_Your_Voice.ipynb)[https://colab.research.google.com/github/H11Maitree/Human-Voice-Cloning-AI-for-Game-Development/blob/main/Tutorial_Clone_Your_Voice.ipynb]\n",
        "\n",
        "---\n",
        "\n",
        "**Goal:** To understand the fundametal process of Voice Cloning. At the end the of this tutorial, user should be-able to clone their own voice and generate Text-To-Speech using their own cloned voice.\n",
        "\n",
        "### The code is based on:\n",
        "- [CorentinJ/Real-Time-Voice-Cloning](https://github.com/CorentinJ/Real-Time-Voice-Cloning.git)\n",
        "- [Transfer Learning from Speaker Verification to\n",
        "Multispeaker Text-To-Speech Synthesis, Google Research](https://arxiv.org/abs/1806.04558)\n",
        "\n",
        "\n",
        "#### Spacial Thanks:\n",
        "This tutorial is heavily rely/follow on [tugstugi/dl-colab-notebooks](https://github.com/tugstugi/dl-colab-notebooks) which well documented on how to excute [CorentinJ/Real-Time-Voice-Cloning](https://github.com/CorentinJ/Real-Time-Voice-Cloning.git) with custom tool for uploading and recording with-in colab.\n",
        "\n",
        "Without this work, it would not be seamless for learner of this tutorial to follow and excute as it will invlove more robust way to handle the file recoding and uploading. Eventhough, the original tugstugi's are not comply with the current version of `Colab 2024` anymore but it still lead to the right direction for this tutorial."
      ],
      "metadata": {
        "id": "O1iya4M3k36X"
      }
    },
    {
      "cell_type": "code",
      "source": [
        "#@title # Review this video from CorentinJ demonstrate the Toolbox GUI version of his project\n",
        "#@markdown This video should give you preperation for understanding the rest of our tutorial\n",
        "\n",
        "from IPython.display import HTML\n",
        "\n",
        "HTML('<iframe width=\"560\" height=\"315\" src=\"https://www.youtube.com/embed/-O_hYhToKoA?si=-RSso_tnuVpf9KKc\" title=\"YouTube video player\" frameborder=\"0\" allow=\"accelerometer; autoplay; clipboard-write; encrypted-media; gyroscope; picture-in-picture; web-share\" allowfullscreen></iframe>')"
      ],
      "metadata": {
        "id": "4rNCO6QiEE9x"
      },
      "execution_count": null,
      "outputs": []
    },
    {
      "cell_type": "code",
      "execution_count": null,
      "metadata": {
        "id": "wlvAhMmFIeTC"
      },
      "outputs": [],
      "source": [
        "#@title # Install Requirement Modules\n",
        "#@markdown ## List of Requrements\n",
        "#@markdown ----\n",
        "#@markdown #### **[IMPORTANT]:** While installing these module there maybe the pop-up ask to restart the runtime, **DO NOT RESTART**, DISMISS and WAIT all the module finish install, We will restart the runtime once after this cell is complete.\n",
        "#@markdown ----\n",
        "#@markdown ### Requrements That Need to be install:\n",
        "#@markdown * **inflect**: A library to correctly generate plurals, singular nouns, ordinals, indefinite articles, and convert numbers to words.\n",
        "#@markdown * **librosa**: A Python package for music and audio analysis, providing the building blocks necessary to create music information retrieval systems.\n",
        "#@markdown * **Pillow**: The Python Imaging Library (PIL) adds image processing capabilities to your Python interpreter, including support for opening, manipulating, and saving many different image file formats.\n",
        "#@markdown * **PyQt5**: A set of Python bindings for the Qt application framework, allowing you to create cross-platform software with a native UI.\n",
        "#@markdown * **scikit-learn**: A machine learning library for Python, featuring various classification, regression and clustering algorithms, including support vector machines, random forests, and k-means.\n",
        "#@markdown * **scipy**: An open-source Python library used for scientific and technical computing, which includes modules for optimization, linear algebra, integration, interpolation, special functions, FFT, and more.\n",
        "#@markdown * **sounddevice**: A module that provides bindings for the PortAudio library and a convenient interface to play and record sound using NumPy arrays.\n",
        "#@markdown * **SoundFile**: A Python library for reading from and writing to audio files, such as WAV, FLAC, or AIFF, with a simple and easy-to-use interface.\n",
        "#@markdown * **tqdm**: A fast, extensible progress bar for Python and CLI that can wrap iterable objects or be manually updated.\n",
        "#@markdown * **umap-learn**: An implementation of UMAP (Uniform Manifold Approximation and Projection), a dimensionality reduction technique that is typically used for visualization in the same vein as t-SNE.\n",
        "#@markdown * **Unidecode**: A Python module that helps to transliterate any Unicode string into the closest possible representation in ASCII text.\n",
        "#@markdown * **urllib3**: A powerful, user-friendly HTTP client for Python, used for making requests to web servers, handling cookies, and managing SSL and proxies.\n",
        "#@markdown * **visdom**: A flexible tool for creating, organizing, and sharing visualizations of live, rich data, supporting PyTorch and Numpy.\n",
        "#@markdown * **webrtcvad**: A Python interface to the WebRTC Voice Activity Detector (VAD), used to detect voice activity in audio streams.\n",
        "\n",
        "#@markdown ### Requrements That already pre-installed in Google Colab:\n",
        "#@markdown * **matplotlib**: A comprehensive library for creating static, animated, and interactive visualizations in Python.\n",
        "#@markdown * **numpy**: A fundamental package for scientific computing with Python, providing support for large, multi-dimensional arrays and matrices, along with a large collection of high-level mathematical functions to operate on these arrays.\n",
        "\n",
        "!pip install inflect==5.3.0\n",
        "!pip install librosa==0.8.1\n",
        "!pip install Pillow==8.4.0\n",
        "!pip install PyQt5==5.15.6\n",
        "!pip install scikit-learn==1.0.2\n",
        "!pip install scipy==1.7.3\n",
        "!pip install sounddevice==0.4.3\n",
        "!pip install SoundFile==0.10.3.post1\n",
        "!pip install tqdm==4.62.3\n",
        "!pip install umap-learn==0.5.2\n",
        "!pip install Unidecode==1.3.2\n",
        "!pip install urllib3==1.26.7\n",
        "!pip install visdom==0.1.8.9\n",
        "!pip install webrtcvad==2.0.10"
      ]
    },
    {
      "cell_type": "markdown",
      "source": [
        "# Restart The Runtime **[Important]**\n",
        "Before we move on to the next cell, as we previously install some dependency into the system **we need to restart it for the Runtime to be reconize those library**. Otherwise it will not beable to run.\n",
        "\n",
        "## How to Restart the Runtime?\n",
        "restart your Google Colab runtime by going to **'`Runtime`' > '`Restart runtime`** or **`Restart session`'**"
      ],
      "metadata": {
        "id": "F9xqAcMXqGDC"
      }
    },
    {
      "cell_type": "code",
      "execution_count": null,
      "metadata": {
        "id": "MtAdPqvwE0NG"
      },
      "outputs": [],
      "source": [
        "#@title Clone the Code from CorentinJ (Voice Generation) and tugstugi (colab widgets)\n",
        "#@markdown Now we need to clone the nessesary code for:\n",
        "#@markdown - Voice Cloning: [CorentinJ/Real-Time-Voice-Cloning](https://github.com/CorentinJ/Real-Time-Voice-Cloning.git)\n",
        "#@markdown - CoLab tools (for upload/record voice widget in colab): [tugstugi/dl-colab-notebooks](https://github.com/tugstugi/dl-colab-notebooks/archive/colab_utils.zip)\n",
        "\n",
        "import os\n",
        "from os.path import exists, join, basename, splitext\n",
        "\n",
        "git_repo_url = 'https://github.com/CorentinJ/Real-Time-Voice-Cloning.git'\n",
        "project_name = splitext(basename(git_repo_url))[0] # Extract Project Name\n",
        "\n",
        "# Check if the Repository is not yet initialize\n",
        "if not exists(project_name):\n",
        "\n",
        "  # Clone the CorentinJ/Real-Time-Voice-Cloning repository\n",
        "  !git clone -q --recursive {git_repo_url}\n",
        "\n",
        "  # install dependencies\n",
        "  !cd {project_name}\n",
        "  !pip install -q --upgrade gdown\n",
        "  !apt-get install -qq libportaudio2\n",
        "  !pip install -q https://github.com/tugstugi/dl-colab-notebooks/archive/colab_utils.zip # Colab Utility Tools for demonstration\n",
        "\n",
        "  # Download Pretrained Models\n",
        "  !cd {project_name} && mkdir -p saved_models/default/\n",
        "  !cd {project_name}/saved_models/default/ && gdown https://drive.google.com/uc?id=1q8mEGwCkFy23KZsinbuvdKAQLqNKbYf1 # Encoder\n",
        "  !cd {project_name}/saved_models/default/ && gdown https://drive.google.com/uc?id=1EqFMIbvxffxtjiVrtykroF6_mUh-5Z3s # Synthesizer\n",
        "  !cd {project_name}/saved_models/default/ && gdown https://drive.google.com/uc?id=1cf2NO6FtI0jDuy8AV3Xgn6leO6dHjIgu # Vocoder"
      ]
    },
    {
      "cell_type": "markdown",
      "source": [
        "# What is Encoder, Synthesizer and Vocoder?\n",
        "This is a pipeline showing how this Voice Cloning process as breakdown steps:\n",
        "\n",
        "![Picture1.png](data:image/png;base64,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)\n",
        "\n",
        "There are some terms that you might need to understand:\n",
        "- **Encoder:** Transforming sound wave file (e.g. .mp3, .wav) into vector/array (embedding array for encoding speaker voice and mel spectrogram from text phoneme sequence)\n",
        "- **Synthesizer:** the whole pipeline that transforms Text-To-Speech with concerted embedding (producing clone voice from text + embedding)\n",
        "- **Vocoder:** transform mel spectrogram (multi-frequency array over time) into sound wave file (e.g. `.mp3`, `.wav`)\n"
      ],
      "metadata": {
        "id": "OzkCZCzoqU_B"
      }
    },
    {
      "cell_type": "code",
      "execution_count": null,
      "metadata": {
        "id": "pqlfqA8iMwf9"
      },
      "outputs": [],
      "source": [
        "#@title ## Download the Encoder, Synthesizer and Vocoder model\n",
        "#@markdown Accroding to [CorentinJ/Real-Time-Voice-Cloning/wiki](https://github.com/CorentinJ/Real-Time-Voice-Cloning/wiki/Pretrained-models) we need to have these pretrain models: Encoder, Synthesizer and Vocoder to make it work.\n",
        "\n",
        "import sys\n",
        "sys.path.append(project_name)\n",
        "\n",
        "from IPython.display import display, Audio, clear_output\n",
        "from IPython.utils import io\n",
        "import ipywidgets as widgets\n",
        "import numpy as np\n",
        "\n",
        "from dl_colab_notebooks.audio import record_audio, upload_audio, audio_bytes_to_np\n",
        "\n",
        "from synthesizer.inference import Synthesizer\n",
        "from encoder import inference as encoder\n",
        "from vocoder import inference as vocoder\n",
        "from pathlib import Path\n",
        "\n",
        "encoder.load_model(project_name / Path(\"saved_models/default/encoder.pt\")) # Load Encoder\n",
        "synthesizer = Synthesizer(project_name / Path(\"saved_models/default/synthesizer.pt\")) # Load Synthesizer\n",
        "vocoder.load_model(project_name / Path(\"saved_models/default/vocoder.pt\")) # Load Vocoder"
      ]
    },
    {
      "cell_type": "code",
      "execution_count": null,
      "metadata": {
        "id": "Tg5Cec8vNNhw"
      },
      "outputs": [],
      "source": [
        "#@title Record or Upload\n",
        "#@markdown Now, either record your voice from microphone or upload audio from file (.mp3 or .wav) to create embedding.\n",
        "\n",
        "#@markdown You may **speak anything**, just speak on the recording, utill the recording is finished.\n",
        "\n",
        "#@markdown If you don't have any thing to speak, **try introduce yourself**!\n",
        "\n",
        "#@markdown After finish, play your recording to make sure the Sound is good for encoding.\n",
        "\n",
        "SAMPLE_RATE = 22050 # rate of the sound file\n",
        "record_or_upload = \"Record\" #@param [\"Record\", \"Upload (.mp3 or .wav)\"]\n",
        "record_seconds =   10 #@param {type:\"number\", min:1, max:10, step:1}\n",
        "\n",
        "embedding = None\n",
        "def _compute_embedding(audio):\n",
        "  display(Audio(audio, rate=SAMPLE_RATE, autoplay=False))\n",
        "  global embedding\n",
        "  embedding = None\n",
        "  embedding = encoder.embed_utterance(encoder.preprocess_wav(audio, SAMPLE_RATE))\n",
        "def _record_audio(b):\n",
        "  clear_output()\n",
        "  audio = record_audio(record_seconds, sample_rate=SAMPLE_RATE)\n",
        "  _compute_embedding(audio)\n",
        "def _upload_audio(b):\n",
        "  clear_output()\n",
        "  audio = upload_audio(sample_rate=SAMPLE_RATE)\n",
        "  _compute_embedding(audio)\n",
        "\n",
        "if record_or_upload == \"Record\":\n",
        "  button = widgets.Button(description=\"Record Your Voice\")\n",
        "  button.on_click(_record_audio)\n",
        "  display(button)\n",
        "else:\n",
        "  button = widgets.Button(description=\"Upload Voice File\")\n",
        "  button.on_click(_upload_audio)\n",
        "  display(button)"
      ]
    },
    {
      "cell_type": "code",
      "execution_count": null,
      "metadata": {
        "id": "dNhlo8rANYjV"
      },
      "outputs": [],
      "source": [
        "#@title # Generate the Cloned Voice From Text (Text-To-Speach + Encoding)\n",
        "\n",
        "#@markdown Now, you got your embedding in-place, we can start generate the cloned voice given the speech.\n",
        "\n",
        "#@markdown **Inputting the sentence you want to generate and run the cell.**\n",
        "\n",
        "#@markdown After the cell run is complete you should be-able to **play the Cloned Voice**\n",
        "\n",
        "text = \"This is my cloned voice\" #@param {type:\"string\"}\n",
        "\n",
        "def synthesize(embed, text):\n",
        "  print(\"Generating the Cloned Voice From the Given Text\")\n",
        "  specs = synthesizer.synthesize_spectrograms([text], [embed])\n",
        "  generated_wav = vocoder.infer_waveform(specs[0])\n",
        "  generated_wav = np.pad(generated_wav, (0, synthesizer.sample_rate), mode=\"constant\")\n",
        "  clear_output()\n",
        "  display(Audio(generated_wav, rate=synthesizer.sample_rate, autoplay=True))\n",
        "\n",
        "if embedding is None:\n",
        "  print(\"You need to have embedding first to start generating (Record voice/uploade voice)\")\n",
        "else:\n",
        "  synthesize(embedding, text)"
      ]
    },
    {
      "cell_type": "code",
      "execution_count": null,
      "metadata": {
        "id": "bA6fuzasN4LZ"
      },
      "outputs": [],
      "source": [
        "#@title # What's embedding looks like?\n",
        "#@markdown **Embedding** is a **Voice Verification ID** which meant to be uniqe per Voice (person), it **represent the quality of the Human sound**. The embedding can be represent by the **array of float**.\n",
        "#@markdown Another popular usecase of Voice embedding is to verify indentity of the user in phone banking like [HSBC's Voice ID](https://www.hsbc.com.hk/ways-to-bank/phone/voice-id/)\n",
        "embedding"
      ]
    },
    {
      "cell_type": "code",
      "source": [
        "#@title ## Visualize the embedding\n",
        "#@markdown **Embedding** can be visualize in the form of **heatmap** for convienet of understanding\n",
        "encoder.plot_embedding_as_heatmap(embedding)"
      ],
      "metadata": {
        "id": "L4aNeq4trZtu"
      },
      "execution_count": null,
      "outputs": []
    },
    {
      "cell_type": "code",
      "source": [
        "#@title # Save and Load Embedding\n",
        "\n",
        "import numpy as np\n",
        "\n",
        "def saveToDisk(array: np.ndarray, dest: str) -> None:\n",
        "    \"\"\"\n",
        "    Save a numpy array to disk as a .npy binary file.\n",
        "\n",
        "    :param array: The numpy array to save.\n",
        "    :param dest: Destination file path where the array will be saved.\n",
        "    \"\"\"\n",
        "    np.save(dest, array)\n",
        "\n",
        "def loadFromDisk(src: str) -> np.ndarray:\n",
        "    \"\"\"\n",
        "    Load a numpy array from a .npy binary file.\n",
        "\n",
        "    :param src: Source file path from which to load the array.\n",
        "    :return: The loaded numpy array.\n",
        "    \"\"\"\n",
        "    return np.load(src)"
      ],
      "metadata": {
        "id": "3FEYO2TlxOGQ"
      },
      "execution_count": null,
      "outputs": []
    },
    {
      "cell_type": "code",
      "source": [
        "#@title ## Save Current Embedding\n",
        "#@markdown We can now save the embedding array to the file I/O\n",
        "\n",
        "#@markdown **Tips:** In Colab File I/O is accessable from the left-hand-side menu under icon file\n",
        "\n",
        "#@markdown You may need to open the Colab's File exporer to see the file in the runtime, upload and dowload file.\n",
        "\n",
        "actorName = input(\"Whose voice is this?: \")\n",
        "saveToDisk(embedding, f'./{actorName}-voice.npy')"
      ],
      "metadata": {
        "id": "M7KUrSTDvIn0"
      },
      "execution_count": null,
      "outputs": []
    },
    {
      "cell_type": "code",
      "source": [
        "#@title ## Load Embedding From I/O\n",
        "actorName = input(\"Whose voice you want to load?: \")\n",
        "embedding = loadFromDisk(f'./{actorName}-voice.npy')"
      ],
      "metadata": {
        "id": "N1Iz4KW_xueV"
      },
      "execution_count": null,
      "outputs": []
    },
    {
      "cell_type": "markdown",
      "source": [
        "\n",
        "\n",
        "---\n",
        "\n",
        "\n",
        "# **Extra:** Generate Hong Kong MTR Voice\n",
        "Next Station, Kowloon Tong\", the common sound that people CityU have to hear everyday when taking MTR to/from the campus.\n",
        "\n",
        "Today, we will extract the embedding out of the MTR voice and recrate voice for a new station stop\n",
        "\n",
        "**Disclamer: DO NOT Pubish this MTR Cloned Voice and use it for educationnal purpose under this tutorial only.**"
      ],
      "metadata": {
        "id": "rLffiOhvxy-8"
      }
    },
    {
      "cell_type": "code",
      "source": [
        "#@title ## Meet the MTR Voice\n",
        "#@markdown Introducing *Dr. Cheri CHAN Yu Yan* From Faculty of Education, HKU whose is the voice of MTR.\n",
        "#@markdown **Review:** Dr. Cheri's interview about 'voice of MTR' with South China Morning Post\n",
        "\n",
        "#@markdown [Voice of Hong Kong's MTR | South China Morning Post](https://www.facebook.com/plugins/video.php?height=314&href=https%3A%2F%2Fwww.facebook.com%2Fscmp%2Fvideos%2F10153769507224820%2F&show_text=false&width=560&t=0)\n",
        "\n",
        "from IPython.display import HTML\n",
        "\n",
        "HTML('<iframe src=\"https://www.facebook.com/plugins/video.php?height=314&href=https%3A%2F%2Fwww.facebook.com%2Fscmp%2Fvideos%2F10153769507224820%2F&show_text=false&width=560&t=0\" width=\"560\" height=\"314\" style=\"border:none;overflow:hidden\" scrolling=\"no\" frameborder=\"0\" allowfullscreen=\"true\" allow=\"autoplay; clipboard-write; encrypted-media; picture-in-picture; web-share\" allowFullScreen=\"true\"></iframe>')"
      ],
      "metadata": {
        "colab": {
          "base_uri": "https://localhost:8080/",
          "height": 370
        },
        "id": "SRw_31lRE6Rh",
        "outputId": "2ffb1583-e7f4-4ee1-e897-48c370979b51"
      },
      "execution_count": 35,
      "outputs": [
        {
          "output_type": "stream",
          "name": "stderr",
          "text": [
            "/usr/local/lib/python3.10/dist-packages/IPython/core/display.py:724: UserWarning: Consider using IPython.display.IFrame instead\n",
            "  warnings.warn(\"Consider using IPython.display.IFrame instead\")\n"
          ]
        },
        {
          "output_type": "execute_result",
          "data": {
            "text/plain": [
              "<IPython.core.display.HTML object>"
            ],
            "text/html": [
              "<iframe src=\"https://www.facebook.com/plugins/video.php?height=314&href=https%3A%2F%2Fwww.facebook.com%2Fscmp%2Fvideos%2F10153769507224820%2F&show_text=false&width=560&t=0\" width=\"560\" height=\"314\" style=\"border:none;overflow:hidden\" scrolling=\"no\" frameborder=\"0\" allowfullscreen=\"true\" allow=\"autoplay; clipboard-write; encrypted-media; picture-in-picture; web-share\" allowFullScreen=\"true\"></iframe>"
            ]
          },
          "metadata": {},
          "execution_count": 35
        }
      ]
    },
    {
      "cell_type": "code",
      "source": [
        "#@title ## Get the MTR Voice Sample\n",
        "\n",
        "#@markdown Now I have prepared the sample of her voice from the video above, let's load it up.\n",
        "\n",
        "# Dowload the sound sample from GitHub\n",
        "!wget https://github.com/H11Maitree/Human-Voice-Cloning-AI-for-Game-Development/raw/main/assets/Voice-of-HK-MTR.mp3\n",
        "\n",
        "\n",
        "# Load\n",
        "with open(\"Voice-of-HK-MTR.mp3\", \"rb\") as file:\n",
        "    audio_bytes = file.read()\n",
        "audio = audio_bytes_to_np(audio_bytes, sample_rate=22050)\n",
        "_compute_embedding(audio)"
      ],
      "metadata": {
        "id": "4Yb9Kz_9yVKA"
      },
      "execution_count": null,
      "outputs": []
    },
    {
      "cell_type": "code",
      "source": [
        "#@title ## Visualize the MTR voice embedding\n",
        "#@markdown This is the embedding (VoiceID) of Dr. Cheri, the voice of MTR HK\n",
        "encoder.plot_embedding_as_heatmap(embedding)"
      ],
      "metadata": {
        "id": "NOelhM96z6S-"
      },
      "execution_count": null,
      "outputs": []
    },
    {
      "cell_type": "code",
      "source": [
        "#@title # Generate the MTR Voice\n",
        "#@markdown Now it time for us to generate new MTR stop!\n",
        "text = \"the next station   Cee Est Lab\" #@param {type:\"string\"}\n",
        "if embedding is None:\n",
        "  print(\"You need to have embedding first to start generating (Record voice/uploade voice)\")\n",
        "else:\n",
        "  synthesize(embedding, text)"
      ],
      "metadata": {
        "id": "DjQP-ne3515R"
      },
      "execution_count": null,
      "outputs": []
    },
    {
      "cell_type": "markdown",
      "source": [
        "## What's goes wrong with our MTR voice?\n",
        "There are some question to takeaway?\n",
        "- Why we are using `\"Cee Est Lab\"` but not `\"CSLab\"`?\n",
        "- Does the Cloned MTR Voice sound like real MTR voice?\n",
        "- Does British-HK accent from Dr. Cheri came along in the cloned voice? Why?\n",
        "- How can we improve this? Where should we improve `Encoder`/`Synthesizer`/`Vocoder` and Why?"
      ],
      "metadata": {
        "id": "vfAHRwAd96t4"
      }
    }
  ],
  "metadata": {
    "colab": {
      "provenance": []
    },
    "kernelspec": {
      "display_name": "Python 3",
      "name": "python3"
    },
    "language_info": {
      "name": "python"
    }
  },
  "nbformat": 4,
  "nbformat_minor": 0
}